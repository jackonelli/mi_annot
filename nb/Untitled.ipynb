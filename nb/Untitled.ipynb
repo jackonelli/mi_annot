{
 "cells": [
  {
   "cell_type": "code",
   "execution_count": null,
   "id": "f4d26274",
   "metadata": {},
   "outputs": [],
   "source": [
    "%load_ext autoreload\n",
    "%autoreload 2\n",
    "import sys\n",
    "sys.path.append(\"..\")\n",
    "from functools import partial\n",
    "from pathlib import Path\n",
    "import torch\n",
    "import numpy as np\n",
    "import matplotlib.cm as cm\n",
    "import matplotlib.pyplot as plt\n",
    "\n",
    "alphas = (0.5, 0.9)\n",
    "ratios = (0.1, 0.5)\n",
    "\n",
    "metrics_names = (\"train_acc\", \"val_acc_checkpoints\", \"train_nll\", \"val_nll_checkpoints\")\n",
    "\n",
    "def get_metrics(annot_quality, ratio, metrics_names):\n",
    "    exp_name = \"dino_ssl_linear_imagenet_1k\"\n",
    "    # exp_name = \"test\"\n",
    "    exp_sub_name = f\"annot_quality_{annot_quality}_ratio_{ratio}\"\n",
    "    dir_ = Path.cwd().parent / \"stored\" / exp_name / exp_sub_name\n",
    "    return map(lambda name: (name, np.genfromtxt(dir_ / f\"{name}.csv\", delimiter=\",\", skip_header=1)), metrics_names)\n",
    "\n",
    "ms = dict(get_metrics(0.1, 0.5, metrics_names))\n",
    "\n",
    "train_loss = ms[\"train_nll\"]\n",
    "val_loss = ms[\"val_nll_checkpoints\"]\n",
    "fig, ax = plt.subplots()\n",
    "ax.plot(train_loss)\n",
    "ax.errorbar(x=val_loss[:, 0], y=val_loss[:, 2], yerr=val_loss[:, 3]);\n"
   ]
  },
  {
   "cell_type": "code",
   "execution_count": null,
   "id": "c39f94e3",
   "metadata": {},
   "outputs": [],
   "source": [
    "print(ms)"
   ]
  },
  {
   "cell_type": "code",
   "execution_count": null,
   "id": "632cfb4a",
   "metadata": {},
   "outputs": [],
   "source": [
    "for a in alphas:\n",
    "    for r in ratios:\n",
    "        ms = dict(get_metrics(a, r, metrics_names))\n",
    "        acc = ms[\"val_acc\"][-1]\n",
    "        print(f\"alpha: {a}, ratio: {r}, acc: {acc}\")"
   ]
  }
 ],
 "metadata": {
  "kernelspec": {
   "display_name": "mi_annot",
   "language": "python",
   "name": "mi_annot"
  },
  "language_info": {
   "codemirror_mode": {
    "name": "ipython",
    "version": 3
   },
   "file_extension": ".py",
   "mimetype": "text/x-python",
   "name": "python",
   "nbconvert_exporter": "python",
   "pygments_lexer": "ipython3",
   "version": "3.8.0"
  }
 },
 "nbformat": 4,
 "nbformat_minor": 5
}
