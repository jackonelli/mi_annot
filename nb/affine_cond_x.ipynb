{
 "cells": [
  {
   "cell_type": "code",
   "execution_count": null,
   "id": "3e804153",
   "metadata": {},
   "outputs": [],
   "source": [
    "%load_ext autoreload\n",
    "%autoreload 2\n",
    "import sys\n",
    "sys.path.append(\"..\")\n",
    "from functools import partial\n",
    "import torch\n",
    "from src.frank_wolfe import pseudo_frank_wolfe, term, isosceles_triangular_extreme_points\n",
    "from src.affine_cond_x import objective_template, objective_gradient\n",
    "from src.affine_cond_x import obj_matrix_form, grad_matrix_form, opt_step_len, approx_step_len"
   ]
  },
  {
   "cell_type": "code",
   "execution_count": null,
   "id": "47128d1d",
   "metadata": {},
   "outputs": [],
   "source": [
    "# Fn check\n",
    "xs = torch.randn((2,1))\n",
    "precisions = torch.randn((2,1))\n",
    "#xs = torch.tensor([[2.0, 3]]).T\n",
    "#precisions = torch.tensor([[1.0, 2]]).T\n",
    "sigma_sq_k, sigma_sq_m = 1, 1\n",
    "full = objective_template(precisions, xs, sigma_sq_k, sigma_sq_m)\n",
    "mat = obj_matrix_form(precisions, xs, sigma_sq_k, sigma_sq_m)\n",
    "print(full, mat)"
   ]
  },
  {
   "cell_type": "code",
   "execution_count": null,
   "id": "fad498af",
   "metadata": {},
   "outputs": [],
   "source": [
    "# Grad check\n",
    "xs = torch.randn((2,1))\n",
    "precisions = torch.randn((2,1))\n",
    "xs = torch.tensor([[2.0, 3]]).T\n",
    "precisions = torch.tensor([[1.0, 2]]).T\n",
    "sigma_sq_k, sigma_sq_m = 1, 1\n",
    "full = objective_gradient(precisions, xs, sigma_sq_k, sigma_sq_m)\n",
    "mat = grad_matrix_form(precisions, xs, sigma_sq_k, sigma_sq_m)\n",
    "print(full)\n",
    "print(mat)"
   ]
  },
  {
   "cell_type": "code",
   "execution_count": null,
   "id": "3efebf24",
   "metadata": {},
   "outputs": [],
   "source": [
    "num_samples = xs.size(0)\n",
    "xs_elem_sq = xs ** 2\n",
    "first_quadr = xs_elem_sq.repeat((1, num_samples))\n",
    "second_quadr = xs @ xs.T\n",
    "quadr_mat = first_quadr - second_quadr\n",
    "linear = num_samples / sigma_sq_m * xs_elem_sq + num_samples / sigma_sq_k * torch.ones(xs.size())"
   ]
  },
  {
   "cell_type": "code",
   "execution_count": null,
   "id": "decdb4ce",
   "metadata": {},
   "outputs": [],
   "source": [
    "step_len_selector = partial(opt_step_len, quadr_mat=2*quadr_mat, linear=linear)\n"
   ]
  },
  {
   "cell_type": "code",
   "execution_count": null,
   "id": "71f625dc",
   "metadata": {},
   "outputs": [],
   "source": [
    "import numpy as np\n",
    "import matplotlib.cm as cm\n",
    "import matplotlib.pyplot as plt\n",
    "\n",
    "\n",
    "delta = 3\n",
    "alpha_1 = np.arange(-50.0, 100.0, delta)\n",
    "alpha_2 = np.arange(-50.0, 100.0, delta)\n",
    "\n",
    "fn = partial(obj_matrix_form, xs=xs, sigma_sq_k=1, sigma_sq_m=1)\n",
    "num_samples = alpha_1.shape[0]\n",
    "Z = torch.empty((num_samples, num_samples))\n",
    "for (i_x, x) in enumerate(alpha_1):\n",
    "    for (i_y, y) in enumerate(alpha_2):\n",
    "        alpha = torch.tensor([x, y], dtype=xs.dtype).reshape((2,1))\n",
    "        Z[i_x, i_y] = fn(alpha)"
   ]
  },
  {
   "cell_type": "code",
   "execution_count": null,
   "id": "f6c001db",
   "metadata": {},
   "outputs": [],
   "source": [
    "budget = 85\n",
    "alpha_init = torch.tensor([[40.0, 0.0]]).T\n",
    "grad_fn = partial(objective_gradient, xs=xs, sigma_sq_k=1, sigma_sq_m=1)\n",
    "extr_point_finder = partial(isosceles_triangular_extreme_points, budget=budget, num_samples=alpha.size(0))\n",
    "step_len_selector = partial(approx_step_len, obj_fn=fn, num_steps=5)\n",
    "alpha_star, alpha_store = pseudo_frank_wolfe(None, grad_fn, extr_point_finder, step_len_selector, term, alpha_init, num_iter=100)\n",
    "alpha_store"
   ]
  },
  {
   "cell_type": "code",
   "execution_count": null,
   "id": "8993c09a",
   "metadata": {},
   "outputs": [],
   "source": [
    "def plot_constraint_set(ax, budget):\n",
    "    x = np.array([0, budget])\n",
    "    y = np.array([budget, 0])\n",
    "    ax.plot(x, y, \"r-\")\n",
    "    x = np.array([0, 0])\n",
    "    y = np.array([0, budget])\n",
    "    ax.plot(x, y, \"r-\")\n",
    "    x = np.array([0, budget])\n",
    "    y = np.array([0, 0])\n",
    "    ax.plot(x, y, \"r-\")\n",
    "\n",
    "# Contour, constraint set and extr points\n",
    "X, Y = np.meshgrid(alpha_1, alpha_2)\n",
    "fig, ax = plt.subplots()\n",
    "CS = ax.contour(X, Y, Z)\n",
    "ax.clabel(CS, inline=True, fontsize=10)\n",
    "\n",
    "plot_constraint_set(ax, budget)\n",
    "\n",
    "extr_points = isosceles_triangular_extreme_points(budget, len(xs))\n",
    "ax.plot(extr_points[0, :], extr_points[1, :], \"rX\")\n",
    "\n",
    "# Traj:\n",
    "ax.plot(alpha_store[0, :], alpha_store[1, :], \"b*-\")\n",
    "# Grad:\n",
    "grad_star = grad_fn(alpha_star)\n",
    "g_plot = torch.column_stack((alpha_star, alpha_star + 0.05 * grad_star))\n",
    "ax.plot(g_plot[0, :], g_plot[1, :], \"b-\")\n",
    "lin_star = grad_fn(alpha_star).T @ (extr_points - alpha_star)\n",
    "print(lin_star)\n",
    "opt_extr_init = torch.tensor([[0, budget]]).T\n",
    "search_dir = opt_extr_init - alpha_init"
   ]
  }
 ],
 "metadata": {
  "kernelspec": {
   "display_name": "Python 3 (ipykernel)",
   "language": "python",
   "name": "python3"
  },
  "language_info": {
   "codemirror_mode": {
    "name": "ipython",
    "version": 3
   },
   "file_extension": ".py",
   "mimetype": "text/x-python",
   "name": "python",
   "nbconvert_exporter": "python",
   "pygments_lexer": "ipython3",
   "version": "3.8.10"
  }
 },
 "nbformat": 4,
 "nbformat_minor": 5
}
