{
 "cells": [
  {
   "cell_type": "code",
   "execution_count": null,
   "id": "3e804153",
   "metadata": {},
   "outputs": [],
   "source": [
    "%load_ext autoreload\n",
    "%autoreload 2\n",
    "import sys\n",
    "sys.path.append(\"..\")\n",
    "from functools import partial\n",
    "from pathlib import Path\n",
    "import torch\n",
    "from src.analytical_mi.frank_wolfe import pseudo_frank_wolfe, term, isosceles_triangular_extreme_points, approx_step_len\n",
    "from src.analytical_mi.affine_cond_x import objective_template, objective_gradient\n",
    "from src.analytical_mi.affine_cond_x import obj_matrix_form, grad_matrix_form, opt_step_len"
   ]
  },
  {
   "cell_type": "code",
   "execution_count": null,
   "id": "f6c001db",
   "metadata": {},
   "outputs": [],
   "source": [
    "budget = 85\n",
    "xs = torch.randn((2,1))\n",
    "alpha_init = torch.tensor([[0.0, 0.0]]).T\n",
    "\n",
    "fn = partial(obj_matrix_form, xs=xs, sigma_sq_k=1, sigma_sq_m=1)\n",
    "grad_fn = partial(grad_matrix_form, xs=xs, sigma_sq_k=1, sigma_sq_m=1)\n",
    "extr_point_finder = partial(isosceles_triangular_extreme_points, budget=budget, num_samples=xs.size(0))\n",
    "step_len_selector = partial(approx_step_len, obj_fn=fn, num_steps=50)\n",
    "alpha_star, alpha_store = pseudo_frank_wolfe(None, grad_fn, extr_point_finder, step_len_selector, term, alpha_init, num_iter=10)"
   ]
  },
  {
   "cell_type": "code",
   "execution_count": null,
   "id": "8993c09a",
   "metadata": {
    "scrolled": true
   },
   "outputs": [],
   "source": [
    "def plot_constraint_set(ax, budget):\n",
    "    x = np.array([0, budget])\n",
    "    y = np.array([budget, 0])\n",
    "    ax.plot(x, y, \"r-\")\n",
    "    x = np.array([0, 0])\n",
    "    y = np.array([0, budget])\n",
    "    ax.plot(x, y, \"r-\")\n",
    "    x = np.array([0, budget])\n",
    "    y = np.array([0, 0])\n",
    "    ax.plot(x, y, \"r-\")\n",
    "    \n",
    "import numpy as np\n",
    "import matplotlib.cm as cm\n",
    "import matplotlib.pyplot as plt\n",
    "\n",
    "\n",
    "delta = 3\n",
    "alpha_1 = np.arange(-50.0, 100.0, delta)\n",
    "alpha_2 = np.arange(-50.0, 100.0, delta)\n",
    "grid_size = alpha_1.shape[0]\n",
    "\n",
    "# Create meshgrid\n",
    "X, Y = np.meshgrid(alpha_1, alpha_2)\n",
    "Z = torch.empty((grid_size, grid_size))\n",
    "for (i_x, x) in enumerate(alpha_1):\n",
    "    for (i_y, y) in enumerate(alpha_2):\n",
    "        alpha = torch.tensor([x, y], dtype=xs.dtype).reshape((2,1))\n",
    "        Z[i_x, i_y] = fn(alpha)\n",
    "    \n",
    "# Contour, constraint set and extr points\n",
    "fig, ax = plt.subplots()\n",
    "CS = ax.contour(X, Y, Z)\n",
    "ax.clabel(CS, inline=True, fontsize=10)\n",
    "\n",
    "plot_constraint_set(ax, budget)\n",
    "\n",
    "extr_points = isosceles_triangular_extreme_points(budget, len(xs))\n",
    "ax.plot(extr_points[0, :], extr_points[1, :], \"rX\")\n",
    "\n",
    "# Traj:\n",
    "ax.plot(alpha_store[0, :], alpha_store[1, :], \"b*-\")\n",
    "# Grad:\n",
    "grad_star = grad_fn(alpha_star)\n",
    "g_plot = torch.column_stack((alpha_star, alpha_star + 0.05 * grad_star))\n",
    "ax.plot(g_plot[0, :], g_plot[1, :], \"b-\")\n",
    "lin_star = grad_fn(alpha_star).T @ (extr_points - alpha_star)\n",
    "opt_extr_init = torch.tensor([[0, budget]]).T\n",
    "from tikzplotlib import save as tikz_save\n",
    "tikz_save(\"affine_alpha_2d.tikz\")"
   ]
  },
  {
   "cell_type": "code",
   "execution_count": null,
   "id": "0a173ac1",
   "metadata": {},
   "outputs": [],
   "source": [
    "budget = 85\n",
    "xs = torch.randn((10,1))\n",
    "alpha_init = torch.zeros(xs.size())\n",
    "\n",
    "fn = partial(obj_matrix_form, xs=xs, sigma_sq_k=1, sigma_sq_m=1)\n",
    "grad_fn = partial(grad_matrix_form, xs=xs, sigma_sq_k=1, sigma_sq_m=1)\n",
    "extr_point_finder = partial(isosceles_triangular_extreme_points, budget=budget, num_samples=xs.size(0))\n",
    "step_len_selector = partial(approx_step_len, obj_fn=fn, num_steps=50)\n",
    "alpha_star, alpha_store = pseudo_frank_wolfe(None, grad_fn, extr_point_finder, step_len_selector, term, alpha_init, num_iter=10)\n",
    "\n",
    "fig, ax = plt.subplots()\n",
    "ax.plot(xs, alpha_star, '*')\n",
    "ax.set_xlabel(\"x\")\n",
    "ax.set_ylabel(\"alpha\")\n",
    "alpha_star"
   ]
  },
  {
   "cell_type": "code",
   "execution_count": null,
   "id": "cbcdbd69",
   "metadata": {},
   "outputs": [],
   "source": [
    "res = torch.column_stack((xs, alpha_star)).numpy()\n",
    "np.savetxt(\"./alpha_star.data\", res)\n"
   ]
  },
  {
   "cell_type": "code",
   "execution_count": null,
   "id": "897f2559",
   "metadata": {},
   "outputs": [],
   "source": [
    "mu_k = 1\n",
    "mu_m = 2\n",
    "std_y = 0.5\n",
    "true_ys = mu_k * xs + mu_m\n",
    "fig, ax = plt.subplots()\n",
    "ax.plot(xs, true_ys, 'r-')\n",
    "ax.plot(xs, torch.zeros(xs.size()), 'b*')\n",
    "ax.set_xlabel(\"x\")\n",
    "ax.set_ylabel(\"y\")\n",
    "xs_zero = torch.column_stack((xs, torch.zeros(xs.size())))\n",
    "xs_true_ys = torch.column_stack((xs, true_ys))\n",
    "xs_noisy_ys = torch.column_stack((xs_true_ys, std_y * torch.ones(xs.size())))\n",
    "np.savetxt(Path.cwd().parent / \"stored/pres_plots/xs.data\", xs_zero.numpy())\n",
    "np.savetxt(Path.cwd().parent / \"stored/pres_plots/true_ys.data\", xs_true_ys.numpy())\n",
    "np.savetxt(Path.cwd().parent / \"stored/pres_plots/noisy_ys.data\", xs_noisy_ys.numpy())"
   ]
  }
 ],
 "metadata": {
  "kernelspec": {
   "display_name": "mi_annot",
   "language": "python",
   "name": "mi_annot"
  },
  "language_info": {
   "codemirror_mode": {
    "name": "ipython",
    "version": 3
   },
   "file_extension": ".py",
   "mimetype": "text/x-python",
   "name": "python",
   "nbconvert_exporter": "python",
   "pygments_lexer": "ipython3",
   "version": "3.8.0"
  }
 },
 "nbformat": 4,
 "nbformat_minor": 5
}
