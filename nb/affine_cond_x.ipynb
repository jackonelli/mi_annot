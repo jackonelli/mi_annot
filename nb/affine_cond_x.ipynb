{
 "cells": [
  {
   "cell_type": "code",
   "execution_count": 111,
   "id": "3e804153",
   "metadata": {},
   "outputs": [
    {
     "name": "stdout",
     "output_type": "stream",
     "text": [
      "The autoreload extension is already loaded. To reload it, use:\n",
      "  %reload_ext autoreload\n"
     ]
    }
   ],
   "source": [
    "%load_ext autoreload\n",
    "%autoreload 2\n",
    "import sys\n",
    "sys.path.append(\"..\")\n",
    "from functools import partial\n",
    "import torch\n",
    "from src.frank_wolfe import pseudo_frank_wolfe, term\n",
    "from src.affine_cond_x import objective_template, objective_gradient, obj_matrix_form, grad_matrix_form, opt_step_len"
   ]
  },
  {
   "cell_type": "code",
   "execution_count": 108,
   "id": "47128d1d",
   "metadata": {},
   "outputs": [
    {
     "name": "stdout",
     "output_type": "stream",
     "text": [
      "term_1 tensor(-0.0102)\n",
      "term_2 tensor(-0.0259)\n",
      "term_3 tensor(1.5776)\n",
      "term_4 tensor(0.0050)\n",
      "tensor(1.5366) tensor([[1.5366]])\n"
     ]
    }
   ],
   "source": [
    "# Fn check\n",
    "xs = torch.randn((2,1))\n",
    "precisions = torch.randn((2,1))\n",
    "#xs = torch.tensor([[2.0, 3]]).T\n",
    "#precisions = torch.tensor([[1.0, 2]]).T\n",
    "sigma_sq_k, sigma_sq_m = 1, 1\n",
    "full = objective_template(precisions, xs, sigma_sq_k, sigma_sq_m)\n",
    "mat = obj_matrix_form(precisions, xs, sigma_sq_k, sigma_sq_m)\n",
    "print(full, mat)"
   ]
  },
  {
   "cell_type": "code",
   "execution_count": 135,
   "id": "fad498af",
   "metadata": {},
   "outputs": [
    {
     "name": "stdout",
     "output_type": "stream",
     "text": [
      "tensor([[8.],\n",
      "        [9.]])\n",
      "tensor([[26.],\n",
      "        [13.]])\n",
      "tensor([[50.],\n",
      "        [73.]])\n"
     ]
    }
   ],
   "source": [
    "# Grad check\n",
    "xs = torch.randn((2,1))\n",
    "precisions = torch.randn((2,1))\n",
    "xs = torch.tensor([[2.0, 3]]).T\n",
    "precisions = torch.tensor([[1.0, 2]]).T\n",
    "sigma_sq_k, sigma_sq_m = 1, 1\n",
    "full = objective_gradient(precisions, xs, sigma_sq_k, sigma_sq_m)\n",
    "mat = grad_matrix_form(precisions, xs, sigma_sq_k, sigma_sq_m)\n",
    "print(full)\n",
    "print(mat)"
   ]
  },
  {
   "cell_type": "code",
   "execution_count": 105,
   "id": "3efebf24",
   "metadata": {},
   "outputs": [],
   "source": [
    "num_samples = xs.size(0)\n",
    "xs_elem_sq = xs ** 2\n",
    "first_quadr = xs_elem_sq.repeat((1, num_samples))\n",
    "second_quadr = xs @ xs.T\n",
    "quadr_mat = first_quadr - second_quadr\n",
    "linear = num_samples / sigma_sq_m * xs_elem_sq + num_samples / sigma_sq_k * torch.ones(xs.size())"
   ]
  },
  {
   "cell_type": "code",
   "execution_count": 102,
   "id": "decdb4ce",
   "metadata": {},
   "outputs": [],
   "source": [
    "step_len_selector = partial(opt_step_len, quadr_mat=2*quadr_mat, linear=linear)\n",
    "pseudo_frank_wolfe(None, )"
   ]
  }
 ],
 "metadata": {
  "kernelspec": {
   "display_name": "mi_annot",
   "language": "python",
   "name": "mi_annot"
  },
  "language_info": {
   "codemirror_mode": {
    "name": "ipython",
    "version": 3
   },
   "file_extension": ".py",
   "mimetype": "text/x-python",
   "name": "python",
   "nbconvert_exporter": "python",
   "pygments_lexer": "ipython3",
   "version": "3.8.0"
  }
 },
 "nbformat": 4,
 "nbformat_minor": 5
}
