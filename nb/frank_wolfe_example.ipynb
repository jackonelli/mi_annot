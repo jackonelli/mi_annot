{
 "cells": [
  {
   "cell_type": "code",
   "execution_count": null,
   "id": "2e170ff1",
   "metadata": {},
   "outputs": [],
   "source": [
    "%load_ext autoreload\n",
    "%autoreload 2\n",
    "import sys\n",
    "sys.path.append(\"..\")\n",
    "import torch\n",
    "from src.frank_wolfe import pseudo_frank_wolfe, term\n",
    "from src.example import fn, grad_fn, extreme_points, opt_step_len"
   ]
  },
  {
   "cell_type": "code",
   "execution_count": null,
   "id": "74623d74",
   "metadata": {},
   "outputs": [],
   "source": [
    "x_init = torch.tensor([0.5, 0.5, 0], dtype=float).reshape(3, 1)\n",
    "x_star, x_store = pseudo_frank_wolfe(fn, grad_fn, extreme_points, opt_step_len, term, x_init, 5)\n",
    "x_store"
   ]
  },
  {
   "cell_type": "code",
   "execution_count": null,
   "id": "93b46ab7",
   "metadata": {},
   "outputs": [],
   "source": [
    "import matplotlib.pyplot as plt\n",
    "\n",
    "\n",
    "def ex_f_gamma(x, p, gamma):\n",
    "    x_1, x_2, x_3 = x\n",
    "    p_1, p_2, p_3 = p\n",
    "    return 100 * (x_1 + gamma*p_1)**2 + (x_2 + gamma * p_2)**2 + (x_3 + gamma * p_3 - 20)**2\n",
    "\n",
    "search_dir = torch.tensor([0, 0, 20]).reshape((3, 1)) - x_init\n",
    "gamma = torch.linspace(0, 1, 100)\n",
    "plt.plot(gamma, ex_f_gamma(x_init, search_dir, gamma))"
   ]
  },
  {
   "cell_type": "code",
   "execution_count": null,
   "id": "c6e6d2dd",
   "metadata": {},
   "outputs": [],
   "source": [
    "x = torch.tensor([1, 2, 3]).reshape((3, 1)).repeat((1, 2))\n",
    "x"
   ]
  }
 ],
 "metadata": {
  "kernelspec": {
   "display_name": "Python 3 (ipykernel)",
   "language": "python",
   "name": "python3"
  },
  "language_info": {
   "codemirror_mode": {
    "name": "ipython",
    "version": 3
   },
   "file_extension": ".py",
   "mimetype": "text/x-python",
   "name": "python",
   "nbconvert_exporter": "python",
   "pygments_lexer": "ipython3",
   "version": "3.8.10"
  }
 },
 "nbformat": 4,
 "nbformat_minor": 5
}
