{
 "cells": [
  {
   "cell_type": "code",
   "execution_count": 4,
   "id": "2e170ff1",
   "metadata": {},
   "outputs": [
    {
     "name": "stdout",
     "output_type": "stream",
     "text": [
      "The autoreload extension is already loaded. To reload it, use:\n",
      "  %reload_ext autoreload\n"
     ]
    }
   ],
   "source": [
    "%load_ext autoreload\n",
    "%autoreload 2\n",
    "import sys\n",
    "sys.path.append(\"..\")\n",
    "import torch\n",
    "from src.frank_wolfe import pseudo_frank_wolfe, term\n",
    "from src.example import fn, grad_fn, extreme_points, opt_step_len"
   ]
  },
  {
   "cell_type": "code",
   "execution_count": 5,
   "id": "74623d74",
   "metadata": {},
   "outputs": [
    {
     "data": {
      "text/plain": [
       "tensor([[ 0.5000,  0.0000],\n",
       "        [ 0.5000,  0.0000],\n",
       "        [ 0.0000, 20.0000]], dtype=torch.float64)"
      ]
     },
     "execution_count": 5,
     "metadata": {},
     "output_type": "execute_result"
    }
   ],
   "source": [
    "x_init = torch.tensor([0.5, 0.5, 0], dtype=float).reshape(3, 1)\n",
    "x_star, x_store = pseudo_frank_wolfe(fn, grad_fn, extreme_points, opt_step_len, term, x_init, 5)\n",
    "x_store"
   ]
  },
  {
   "cell_type": "code",
   "execution_count": null,
   "id": "93b46ab7",
   "metadata": {},
   "outputs": [],
   "source": [
    "import matplotlib.pyplot as plt\n",
    "\n",
    "\n",
    "def ex_f_gamma(x, p, gamma):\n",
    "    x_1, x_2, x_3 = x\n",
    "    p_1, p_2, p_3 = p\n",
    "    return 100 * (x_1 + gamma*p_1)**2 + (x_2 + gamma * p_2)**2 + (x_3 + gamma * p_3 - 20)**2\n",
    "\n",
    "search_dir = torch.tensor([0, 0, 20]).reshape((3, 1)) - x_init\n",
    "gamma = torch.linspace(0, 1, 100)\n",
    "plt.plot(gamma, ex_f_gamma(x_init, search_dir, gamma))"
   ]
  },
  {
   "cell_type": "code",
   "execution_count": 9,
   "id": "c6e6d2dd",
   "metadata": {},
   "outputs": [
    {
     "data": {
      "text/plain": [
       "tensor([[1, 1],\n",
       "        [2, 2],\n",
       "        [3, 3]])"
      ]
     },
     "execution_count": 9,
     "metadata": {},
     "output_type": "execute_result"
    }
   ],
   "source": [
    "x = torch.tensor([1, 2, 3]).reshape((3, 1)).repeat((1, 2))\n",
    "x"
   ]
  }
 ],
 "metadata": {
  "kernelspec": {
   "display_name": "mi_annot",
   "language": "python",
   "name": "mi_annot"
  },
  "language_info": {
   "codemirror_mode": {
    "name": "ipython",
    "version": 3
   },
   "file_extension": ".py",
   "mimetype": "text/x-python",
   "name": "python",
   "nbconvert_exporter": "python",
   "pygments_lexer": "ipython3",
   "version": "3.8.0"
  }
 },
 "nbformat": 4,
 "nbformat_minor": 5
}
