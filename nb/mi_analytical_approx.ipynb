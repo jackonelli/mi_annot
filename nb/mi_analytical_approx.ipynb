{
 "cells": [
  {
   "cell_type": "code",
   "execution_count": null,
   "metadata": {},
   "outputs": [],
   "source": [
    "from functools import partial\n",
    "import numpy as np\n",
    "import torch\n",
    "import matplotlib.pyplot as plt\n",
    "\n",
    "alphas = np.linspace(0.1, 1.0)\n",
    "ratios = np.linspace(0.1, 1.0)\n",
    "R, A = np.meshgrid(ratios, alphas)\n",
    "C = 5\n",
    "b = 0.1\n",
    "Z = torch.empty((len(ratios), len(alphas)))\n",
    "\n",
    "\n",
    "def power_constr(ratios, budget, power):\n",
    "    return (budget / ratios)**(1/power)\n",
    "\n",
    "def lin_constr(ratios, budget):\n",
    "    fn = partial(power_constr, power=1)\n",
    "    return fn(ratios, budget)\n",
    "\n",
    "def square_constr(ratios, budget):\n",
    "    fn = partial(power_constr, power=2)\n",
    "    return fn(ratios, budget)\n",
    "\n",
    "\n",
    "for i_r, r in enumerate(ratios):\n",
    "    for i_a, a in enumerate(alphas):\n",
    "        # Z[i_r, i_a] = r * (C-1) * np.log((1-a)/C) + r*(np.log(a + (1-a)/C)) + C * (1 - r)* np.log(1 / C)\n",
    "        #Z[i_r, i_a] = r*(np.log(a + (1-a)/C)) + (1 - r)* np.log(1 / C)\n",
    "        Z[i_r, i_a] = r*(np.log(a + (1-a)/C)) + (1 - r)* np.log(1 / C)\n",
    "        #Z[i_r, i_a] = r*(np.log((C-1)*a) + 1) + r * np.log(C)\n",
    "\n",
    "constr = partial(lin_constr, budget = b)\n",
    "constr = partial(square_constr, budget = b)\n",
    "\n",
    "fig, ax = plt.subplots()\n",
    "CS = ax.contour(R, A, Z)\n",
    "ax.plot(ratios, constr(ratios), 'r--', label=\"constr\")\n",
    "ax.clabel(CS, inline=True, fontsize=10)\n",
    "#plt.xscale('log')\n",
    "ax.set_title(\"MI approx\")\n",
    "ax.set_xlabel(\"train set ratio\")\n",
    "ax.set_ylabel(\"annot qual. alpha\")\n",
    "#ax.legend();\n",
    "from tikzplotlib import save as tikz_save\n",
    "tikz_save(\"closed_form_approx.tikz\")"
   ]
  },
  {
   "cell_type": "code",
   "execution_count": null,
   "metadata": {},
   "outputs": [],
   "source": [
    "def f_r(ratios, budget, num_classes):\n",
    "    return ratios * np.log((num_classes-1)*budget/ratios + 1) + ratios * np.log(num_classes)"
   ]
  },
  {
   "cell_type": "code",
   "execution_count": null,
   "metadata": {},
   "outputs": [],
   "source": [
    "fig, ax = plt.subplots()\n",
    "ax.plot(ratios, f_r(ratios, b, C), 'r--')\n",
    "ax.clabel(CS, inline=True, fontsize=10)\n",
    "#plt.xscale('log')\n",
    "ax.set_title\n",
    "ax.set_xlabel(\"train set ratio\")\n",
    "ax.set_ylabel(\"annot qual. alpha\")"
   ]
  }
 ],
 "metadata": {
  "kernelspec": {
   "display_name": "Python 3",
   "language": "python",
   "name": "python3"
  },
  "language_info": {
   "codemirror_mode": {
    "name": "ipython",
    "version": 3
   },
   "file_extension": ".py",
   "mimetype": "text/x-python",
   "name": "python",
   "nbconvert_exporter": "python",
   "pygments_lexer": "ipython3",
   "version": "3.6.9"
  }
 },
 "nbformat": 4,
 "nbformat_minor": 5
}
