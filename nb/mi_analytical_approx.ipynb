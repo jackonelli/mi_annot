{
 "cells": [
  {
   "cell_type": "code",
   "execution_count": null,
   "id": "38264cf0",
   "metadata": {},
   "outputs": [],
   "source": [
    "import numpy as np\n",
    "import torch\n",
    "import matplotlib.pyplot as plt\n",
    "\n",
    "alphas = np.linspace(0.1, 0.9)\n",
    "ratios = np.linspace(0.1, 0.9)\n",
    "R, A = np.meshgrid(ratios, alphas)\n",
    "C = 2\n",
    "Z = torch.empty((len(ratios), len(alphas)))\n",
    "\n",
    "for i_r, r in enumerate(ratios):\n",
    "    for i_a, a in enumerate(alphas):\n",
    "        # Z[i_r, i_a] = r * (C-1) * np.log((1-a)/C) + r*(np.log(a + (1-a)/C)) + C * (1 - r)* np.log(1 / C)\n",
    "        Z[i_r, i_a] = r*(np.log(a + (1-a)/C)) + (1 - r)* np.log(1 / C)\n",
    "\n",
    "fig, ax = plt.subplots()\n",
    "CS = ax.contour(R, A, Z)\n",
    "ax.clabel(CS, inline=True, fontsize=10)\n",
    "#plt.xscale('log')\n",
    "ax.set_title\n",
    "ax.set_xlabel(\"train set ratio\")\n",
    "ax.set_ylabel(\"annot qual. alpha\")"
   ]
  }
 ],
 "metadata": {
  "kernelspec": {
   "display_name": "Python 3 (ipykernel)",
   "language": "python",
   "name": "python3"
  },
  "language_info": {
   "codemirror_mode": {
    "name": "ipython",
    "version": 3
   },
   "file_extension": ".py",
   "mimetype": "text/x-python",
   "name": "python",
   "nbconvert_exporter": "python",
   "pygments_lexer": "ipython3",
   "version": "3.8.10"
  }
 },
 "nbformat": 4,
 "nbformat_minor": 5
}
