{
 "cells": [
  {
   "cell_type": "code",
   "execution_count": null,
   "id": "16b49aa0",
   "metadata": {},
   "outputs": [],
   "source": [
    "import numpy as np\n",
    "import torch\n",
    "import matplotlib.pyplot as plt\n",
    "alphas = np.linspace(0.1, 0.9)\n",
    "ratios = np.linspace(0.1, 0.9)\n",
    "R, A = np.meshgrid(ratios, alphas)\n",
    "C = 5\n",
    "Z = torch.empty((len(ratios), len(alphas)))\n",
    "\n",
    "for i_r, r in enumerate(ratios):\n",
    "    for i_a, a in enumerate(alphas):\n",
    "        Z[i_r, i_a] = -(r * np.log(a + (1-a)/C) + (1 - r)* np.log((1-a) / C))\n",
    "        \n",
    "fig, ax = plt.subplots()\n",
    "CS = ax.contour(R, A, Z)\n",
    "ax.clabel(CS, inline=True, fontsize=10)\n",
    "#plt.xscale('log')\n",
    "ax.set_title(\"MI approximation\")\n",
    "ax.set_xlabel(\"train set ratio\")\n",
    "ax.set_ylabel(\"annot qual. alpha\");"
   ]
  }
 ],
 "metadata": {
  "kernelspec": {
   "display_name": "mi_annot",
   "language": "python",
   "name": "mi_annot"
  },
  "language_info": {
   "codemirror_mode": {
    "name": "ipython",
    "version": 3
   },
   "file_extension": ".py",
   "mimetype": "text/x-python",
   "name": "python",
   "nbconvert_exporter": "python",
   "pygments_lexer": "ipython3",
   "version": "3.8.0"
  }
 },
 "nbformat": 4,
 "nbformat_minor": 5
}
