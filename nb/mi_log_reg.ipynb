{
 "cells": [
  {
   "cell_type": "code",
   "execution_count": null,
   "id": "90333c5d",
   "metadata": {},
   "outputs": [],
   "source": [
    "%load_ext autoreload\n",
    "%autoreload 2\n",
    "import sys\n",
    "sys.path.append(\"..\")\n",
    "from functools import partial\n",
    "from pathlib import Path\n",
    "import torch\n",
    "import numpy as np\n",
    "import matplotlib.cm as cm\n",
    "import matplotlib.pyplot as plt\n",
    "from matplotlib.colors import ListedColormap\n",
    "from src.mi_log_reg.data_loader import MvnMultiClassData\n",
    "\n",
    "dist = 5\n",
    "c_1 = (torch.zeros(2,), torch.eye(2))\n",
    "c_2 = (dist*torch.tensor([1.0, 0]), torch.eye(2))\n",
    "c_3 = (dist*torch.tensor([0.5, 0.5]), torch.eye(2))\n",
    "\n",
    "clusters = [c_1, c_2, c_3]\n",
    "data = MvnMultiClassData(10000, clusters, 0)\n",
    "input_, labels = data.samples\n",
    "#print(input_.size())\n",
    "\n",
    "colors = ['red','green', 'blue']\n",
    "plt.scatter(input_[:, 0], input_[:, 1], c=labels, cmap=ListedColormap(colors))"
   ]
  },
  {
   "cell_type": "code",
   "execution_count": null,
   "id": "442c500a",
   "metadata": {},
   "outputs": [],
   "source": [
    "alphas = np.array([0.1, 0.25, 0.5, 0.75, 1.0])\n",
    "ratios = np.array([0.01, 0.1, 0.2, 0.5, 0.75])\n",
    "\n",
    "mis = torch.load(\"../stored/mi_log_reg/mis.th\")\n",
    "R, A = np.meshgrid(ratios, alphas)\n",
    "Z = torch.empty((len(ratios), len(alphas)))\n",
    "\n",
    "for i_r, r in enumerate(ratios):\n",
    "    for i_a, a in enumerate(alphas):\n",
    "        Z[i_r, i_a] = mis[i_r, i_a]\n",
    "        \n",
    "fig, ax = plt.subplots()\n",
    "CS = ax.contour(R, A, Z)\n",
    "ax.clabel(CS, inline=True, fontsize=10)\n",
    "#plt.xscale('log')\n",
    "ax.set_title\n",
    "ax.set_xlabel(\"train set ratio\")\n",
    "ax.set_ylabel(\"annot qual. alpha\")\n",
    "from tikzplotlib import save as tikz_save\n",
    "tikz_save(\"ssl_exp.tikz\")"
   ]
  }
 ],
 "metadata": {
  "kernelspec": {
   "display_name": "mi_annot",
   "language": "python",
   "name": "mi_annot"
  },
  "language_info": {
   "codemirror_mode": {
    "name": "ipython",
    "version": 3
   },
   "file_extension": ".py",
   "mimetype": "text/x-python",
   "name": "python",
   "nbconvert_exporter": "python",
   "pygments_lexer": "ipython3",
   "version": "3.8.0"
  }
 },
 "nbformat": 4,
 "nbformat_minor": 5
}
