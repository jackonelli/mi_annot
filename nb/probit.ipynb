{
 "cells": [
  {
   "cell_type": "code",
   "execution_count": null,
   "id": "798f3145",
   "metadata": {},
   "outputs": [],
   "source": [
    "from math import log, log2\n",
    "from scipy.stats import norm\n",
    "def h(p):\n",
    "    return -p*log2(p) - (1-p)*log2(1-p)\n",
    "def p(z, alpha=0.9):\n",
    "    return (2*alpha - 1)*norm.cdf(z) + 1-alpha\n",
    "h(p(0))\n",
    "#p(0)"
   ]
  },
  {
   "cell_type": "code",
   "execution_count": null,
   "id": "91ca46ba",
   "metadata": {},
   "outputs": [],
   "source": [
    "a = 1e-3"
   ]
  }
 ],
 "metadata": {
  "kernelspec": {
   "display_name": "Python 3",
   "language": "python",
   "name": "python3"
  },
  "language_info": {
   "codemirror_mode": {
    "name": "ipython",
    "version": 3
   },
   "file_extension": ".py",
   "mimetype": "text/x-python",
   "name": "python",
   "nbconvert_exporter": "python",
   "pygments_lexer": "ipython3",
   "version": "3.8.0"
  }
 },
 "nbformat": 4,
 "nbformat_minor": 5
}
