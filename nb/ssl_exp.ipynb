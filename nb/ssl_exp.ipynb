{
 "cells": [
  {
   "cell_type": "code",
   "execution_count": null,
   "id": "eb1e4a2d",
   "metadata": {},
   "outputs": [],
   "source": [
    "%load_ext autoreload\n",
    "%autoreload 2\n",
    "import sys\n",
    "sys.path.append(\"..\")\n",
    "from functools import partial\n",
    "from pathlib import Path\n",
    "import torch\n",
    "import numpy as np\n",
    "import matplotlib.cm as cm\n",
    "import matplotlib.pyplot as plt\n",
    "\n",
    "alphas = (0.1, 0.25, 0.5, 0.75, 1.0)\n",
    "ratios = (0.01, 0.1, 0.2, 0.5, 0.75)\n",
    "\n",
    "metrics_names = (\"train_acc\", \"val_acc_checkpoints\", \"train_top-5-acc\", \"val_top-5-acc_checkpoints\", \"train_nll\", \"val_nll_checkpoints\")\n",
    "\n",
    "def get_metrics(annot_quality, ratio, metrics_names):\n",
    "    exp_name = \"full_val_dino_ssl_linear_imagenet_1k\"\n",
    "    # exp_name = \"test\"\n",
    "    exp_sub_name = f\"annot_quality_{annot_quality}_ratio_{ratio}\"\n",
    "    dir_ = Path.cwd().parent / \"stored\" / exp_name / exp_sub_name\n",
    "    return map(lambda name: (name, np.genfromtxt(dir_ / f\"{name}.csv\", delimiter=\",\", skip_header=1)), metrics_names)\n",
    "\n",
    "ms = dict(get_metrics(0.1, 0.5, metrics_names))\n",
    "\n",
    "train_loss = ms[\"train_nll\"]\n",
    "val_loss = ms[\"val_nll_checkpoints\"]\n",
    "train_acc = ms[\"train_acc\"]\n",
    "val_acc = ms[\"val_acc_checkpoints\"]\n",
    "train_acc_top_5 = ms[\"train_top-5-acc\"]\n",
    "val_acc_top_5 = ms[\"val_top-5-acc_checkpoints\"]\n",
    "fig, ax = plt.subplots()\n",
    "#ax.plot(train_loss)\n",
    "#ax.errorbar(x=val_loss[:, 0], y=val_loss[:, 2], yerr=val_loss[:, 3]);\n",
    "ax.plot(train_acc)\n",
    "ax.errorbar(x=val_acc[:, 0], y=val_acc[:, 2], yerr=val_acc[:, 3]);\n"
   ]
  },
  {
   "cell_type": "code",
   "execution_count": null,
   "id": "4eab7dad",
   "metadata": {},
   "outputs": [],
   "source": [
    "for a in alphas:\n",
    "    for r in ratios:\n",
    "        ms = dict(get_metrics(a, r, metrics_names))\n",
    "        ext_ts, ts, mean, std = ms[\"val_top-5-acc_checkpoints\"][-1]\n",
    "        print(f\"alpha: {a}, ratio: {r}, acc: {mean:.2f}+-{std:.2f}\")"
   ]
  },
  {
   "cell_type": "code",
   "execution_count": null,
   "id": "bea2e4c8",
   "metadata": {},
   "outputs": [],
   "source": [
    "R, A = np.meshgrid(ratios, alphas)\n",
    "Z = torch.empty((len(ratios), len(alphas)))\n",
    "\n",
    "for i_r, r in enumerate(ratios):\n",
    "    for i_a, a in enumerate(alphas):\n",
    "        ms = dict(get_metrics(a, r, metrics_names))\n",
    "        _, _, mean, _ = ms[\"val_top-5-acc_checkpoints\"][-1]\n",
    "        Z[i_r, i_a] = mean\n",
    "        \n",
    "fig, ax = plt.subplots()\n",
    "CS = ax.contour(R, A, Z)\n",
    "ax.clabel(CS, inline=True, fontsize=10)\n",
    "#plt.xscale('log')\n",
    "ax.set_title\n",
    "ax.set_xlabel(\"train set ratio\")\n",
    "ax.set_ylabel(\"annot qual. alpha\")\n",
    "from tikzplotlib import save as tikz_save\n",
    "tikz_save(\"ssl_exp.tikz\")"
   ]
  }
 ],
 "metadata": {
  "kernelspec": {
   "display_name": "mi_annot",
   "language": "python",
   "name": "mi_annot"
  },
  "language_info": {
   "codemirror_mode": {
    "name": "ipython",
    "version": 3
   },
   "file_extension": ".py",
   "mimetype": "text/x-python",
   "name": "python",
   "nbconvert_exporter": "python",
   "pygments_lexer": "ipython3",
   "version": "3.8.0"
  }
 },
 "nbformat": 4,
 "nbformat_minor": 5
}
