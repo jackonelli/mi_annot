{
 "cells": [
  {
   "cell_type": "code",
   "execution_count": null,
   "id": "bcb7ada2",
   "metadata": {},
   "outputs": [],
   "source": [
    "%reload_ext autoreload\n",
    "%autoreload 2"
   ]
  },
  {
   "cell_type": "code",
   "execution_count": null,
   "id": "0661d211",
   "metadata": {},
   "outputs": [],
   "source": [
    "import numpy as np\n",
    "import matplotlib.pyplot as plt \n",
    "from lib import onedim_gaussian_pdf\n",
    "\n",
    "\n",
    "xs = np.arange(-3, 3, step=0.1)\n",
    "ys = onedim_gaussian_pdf(xs, (0, 1))\n",
    "plt.plot(xs, ys)"
   ]
  },
  {
   "cell_type": "code",
   "execution_count": null,
   "id": "42fd4d5b",
   "metadata": {},
   "outputs": [],
   "source": [
    "from lib import OneDimGaussian\n",
    "from lib import plot_sigma_level\n",
    "\n",
    "mu_theta = 1\n",
    "sigma_sq_theta = 2\n",
    "alpha = 1\n",
    "sigma_sq_y = 1 / alpha\n",
    "rho = 1\n",
    "\n",
    "mean = np.array([mu_theta, mu_theta])\n",
    "cov = np.array([\n",
    "    [sigma_sq_theta, sigma_sq_theta*rho],\n",
    "    [sigma_sq_theta*rho, sigma_sq_theta+sigma_sq_y]\n",
    "])\n",
    "\n",
    "theta_dist = OneDimGaussian(mu_theta, sigma_sq_theta)\n",
    "thetas = theta_dist.sample(10000)\n",
    "y_err_dist = OneDimGaussian(0, sigma_sq_y)\n",
    "ys = thetas + y_err_dist.sample(len(thetas))\n",
    "\n",
    "_, ax = plt.subplots()\n",
    "ax.plot(thetas, ys, \".\")\n",
    "plot_sigma_level(ax, mean, cov, 3, \"$p(y | \\theta)$\", \"r\")\n",
    "np.cov(np.row_stack((thetas, ys)))"
   ]
  },
  {
   "cell_type": "code",
   "execution_count": null,
   "id": "967ee510",
   "metadata": {},
   "outputs": [],
   "source": [
    "from lib import OneDimGaussian\n",
    "from lib import plot_sigma_level\n",
    "mu_theta = 1\n",
    "sigma_sq_theta = 2\n",
    "alpha = 0.7\n",
    "sigma_sq_y = 1 / alpha\n",
    "mean = np.array([mu_theta, mu_theta])\n",
    "cov = np.array([[sigma_sq_theta, rho],[rho, sigma_sq_theta + sigma_sq_y]])\n",
    "\n",
    "theta_dist = OneDimGaussian(mu_theta, sigma_sq_theta)\n",
    "thetas = theta_dist.sample(1000)\n",
    "y_err_dist = OneDimGaussian(0, sigma_sq_y)\n",
    "ys = thetas + y_err_dist.sample(len(thetas))\n",
    "\n",
    "_, ax = plt.subplots()\n",
    "ax.plot(thetas, ys, \".\")\n",
    "plot_sigma_level(ax, mean, cov, 3, \"$p(y | \\theta)$\", \"r\")\n"
   ]
  },
  {
   "cell_type": "code",
   "execution_count": null,
   "id": "bf96519a",
   "metadata": {},
   "outputs": [],
   "source": []
  }
 ],
 "metadata": {
  "kernelspec": {
   "display_name": "Python 3",
   "language": "python",
   "name": "python3"
  },
  "language_info": {
   "codemirror_mode": {
    "name": "ipython",
    "version": 3
   },
   "file_extension": ".py",
   "mimetype": "text/x-python",
   "name": "python",
   "nbconvert_exporter": "python",
   "pygments_lexer": "ipython3",
   "version": "3.8.0"
  }
 },
 "nbformat": 4,
 "nbformat_minor": 5
}
